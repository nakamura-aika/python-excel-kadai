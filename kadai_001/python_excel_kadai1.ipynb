{
  "nbformat": 4,
  "nbformat_minor": 0,
  "metadata": {
    "colab": {
      "provenance": []
    },
    "kernelspec": {
      "name": "python3",
      "display_name": "Python 3"
    },
    "language_info": {
      "name": "python"
    }
  },
  "cells": [
    {
      "cell_type": "code",
      "execution_count": 1,
      "metadata": {
        "colab": {
          "base_uri": "https://localhost:8080/"
        },
        "id": "3PmHrwLU8wf7",
        "outputId": "d2f4ff41-f3f1-4837-b33a-91a7b2bb4b87"
      },
      "outputs": [
        {
          "output_type": "stream",
          "name": "stdout",
          "text": [
            "Requirement already satisfied: openpyxl in /usr/local/lib/python3.12/dist-packages (3.1.5)\n",
            "Requirement already satisfied: et-xmlfile in /usr/local/lib/python3.12/dist-packages (from openpyxl) (2.0.0)\n"
          ]
        }
      ],
      "source": [
        "!pip install openpyxl\n"
      ]
    },
    {
      "cell_type": "code",
      "source": [
        "import openpyxl\n",
        "from openpyxl.styles import Font, Alignment\n",
        "from datetime import datetime\n",
        "\n",
        "# 日付の取得と整形\n",
        "today = datetime.today()\n",
        "date_str = today.strftime('%Y/%m/%d')\n",
        "filename = f'請求書_{today.strftime(\"%Y%m%d\")}.xlsx'\n",
        "\n",
        "# ワークブックとシート作成\n",
        "wb = openpyxl.Workbook()\n",
        "ws = wb.active\n",
        "ws.title = '請求書'\n",
        "\n",
        "# フォントと配置設定\n",
        "font_bold = Font(name='Meiryo', bold=True, size=12)\n",
        "font_normal = Font(name='Meiryo', size=11)\n",
        "align_left = Alignment(horizontal='left', vertical='center')\n",
        "align_center = Alignment(horizontal='center', vertical='center')\n",
        "align_right = Alignment(horizontal='right', vertical='center')\n",
        "\n",
        "# 会社情報\n",
        "ws['B1'] = '請求書'\n",
        "ws['B1'].font = Font(name='Meiryo', bold=True, size=14)\n",
        "ws['B3'] = '株式会社ABC'\n",
        "ws['B4'] = '〒101-0022 東京都千代田区神田練塀町300'\n",
        "ws['B5'] = 'TEL: 03-1234-5678 FAX: 03-1234-5678'\n",
        "ws['B6'] = '担当者名：鈴木一郎 様'\n",
        "\n",
        "# 請求番号と日付\n",
        "ws['F4'] = 'No.'\n",
        "ws['G4'] = '0001'\n",
        "ws['F5'] = '日付'\n",
        "ws['G5'] = date_str\n",
        "\n",
        "# 商品明細ヘッダー\n",
        "ws.append([])\n",
        "ws.append(['商品名', '数量', '単価', '金額'])\n",
        "\n",
        "# 商品データ\n",
        "items = [\n",
        "    ['商品A', 2, 10000, 20000],\n",
        "    ['商品B', 3, 5000, 15000]\n",
        "]\n",
        "\n",
        "for item in items:\n",
        "    ws.append(item)\n",
        "\n",
        "# 合計・消費税・税込合計の計算\n",
        "subtotal = sum(row[3] for row in items)\n",
        "tax = int(subtotal * 0.10)\n",
        "total = subtotal + tax\n",
        "\n",
        "ws.append(['合計', '', '', subtotal])\n",
        "ws.append(['消費税', '', '', tax])\n",
        "ws.append(['税込合計', '', '', total])\n",
        "\n",
        "# 書式調整\n",
        "max_row = ws.max_row\n",
        "for row in ws.iter_rows(min_row=1, max_row=max_row, min_col=1, max_col=4):\n",
        "    for cell in row:\n",
        "        cell.font = font_normal\n",
        "        cell.alignment = align_center\n",
        "\n",
        "# ヘッダーと金額列だけ右寄せ\n",
        "for row in ws.iter_rows(min_row=8, max_row=max_row, min_col=4, max_col=4):\n",
        "    for cell in row:\n",
        "        cell.alignment = align_right\n",
        "\n",
        "# 保存\n",
        "wb.save(filename)\n",
        "print(f'{filename} を作成しました。')\n"
      ],
      "metadata": {
        "colab": {
          "base_uri": "https://localhost:8080/"
        },
        "id": "PdH-1H7l89oP",
        "outputId": "69963833-f424-49b3-dbcc-e09138ece7c7"
      },
      "execution_count": 4,
      "outputs": [
        {
          "output_type": "stream",
          "name": "stdout",
          "text": [
            "請求書_20250922.xlsx を作成しました。\n"
          ]
        }
      ]
    }
  ]
}