{
  "nbformat": 4,
  "nbformat_minor": 0,
  "metadata": {
    "colab": {
      "provenance": []
    },
    "kernelspec": {
      "name": "python3",
      "display_name": "Python 3"
    },
    "language_info": {
      "name": "python"
    }
  },
  "cells": [
    {
      "cell_type": "code",
      "execution_count": 1,
      "metadata": {
        "colab": {
          "base_uri": "https://localhost:8080/"
        },
        "id": "3PmHrwLU8wf7",
        "outputId": "d2f4ff41-f3f1-4837-b33a-91a7b2bb4b87"
      },
      "outputs": [
        {
          "output_type": "stream",
          "name": "stdout",
          "text": [
            "Requirement already satisfied: openpyxl in /usr/local/lib/python3.12/dist-packages (3.1.5)\n",
            "Requirement already satisfied: et-xmlfile in /usr/local/lib/python3.12/dist-packages (from openpyxl) (2.0.0)\n"
          ]
        }
      ],
      "source": [
        "!pip install openpyxl\n"
      ]
    },
    {
      "cell_type": "code",
      "source": [
        "import openpyxl\n",
        "from openpyxl.styles import Font, Alignment\n",
        "from datetime import datetime\n",
        "\n",
        "# 今日の日付を取得\n",
        "date_str = datetime.today().strftime('%Y/%m/%d')\n",
        "filename = f'請求書_{date_str.replace(\"/\", \"\")}.xlsx'\n",
        "\n",
        "# ワークブックとシート作成\n",
        "wb = openpyxl.Workbook()\n",
        "ws = wb.active\n",
        "ws.title = '請求書'\n",
        "\n",
        "# フォントと配置設定\n",
        "font_title = Font(name='Meiryo', bold=True, size=14)\n",
        "font_bold = Font(name='Meiryo', bold=True, size=11)\n",
        "font_normal = Font(name='Meiryo', size=11)\n",
        "align_left = Alignment(horizontal='left', vertical='center')\n",
        "align_center = Alignment(horizontal='center', vertical='center')\n",
        "align_right = Alignment(horizontal='right', vertical='center')\n",
        "\n",
        "# タイトル\n",
        "ws['B1'] = '請求書'\n",
        "ws['B1'].font = font_title\n",
        "ws['B1'].alignment = align_left\n",
        "\n",
        "# 会社情報\n",
        "ws['B3'] = '株式会社ABC'\n",
        "ws['B4'] = '〒101-0022 東京都千代田区神田練塀町300'\n",
        "ws['B5'] = 'TEL: 03-1234-5678 FAX: 03-1234-5678'\n",
        "ws['B6'] = '担当者名：鈴木一郎 様'\n",
        "for row in range(3, 7):\n",
        "    ws[f'B{row}'].font = font_normal\n",
        "    ws[f'B{row}'].alignment = align_left\n",
        "\n",
        "# 請求番号と日付\n",
        "ws['F3'] = 'No.'\n",
        "ws['G3'] = '0001'\n",
        "ws['F4'] = '日付'\n",
        "ws['G4'] = date_str\n",
        "for cell in ['F3', 'G3', 'F4', 'G4']:\n",
        "    ws[cell].font = font_normal\n",
        "    ws[cell].alignment = align_left\n",
        "\n",
        "# 空行を2行追加\n",
        "ws.append([])\n",
        "ws.append([])\n",
        "\n",
        "# 商品明細ヘッダー（B列から）\n",
        "ws.append(['', '商品名', '数量', '単価', '金額'])\n",
        "\n",
        "# 商品データ\n",
        "items = [\n",
        "    ['商品A', 2, 10000, 20000],\n",
        "    ['商品B', 1, 15000, 15000]\n",
        "]\n",
        "\n",
        "for item in items:\n",
        "    ws.append([''] + item)\n",
        "\n",
        "# 商品合計（消費税なし）をE13に表示（ラベルなし）\n",
        "total_without_tax = sum(row[3] for row in items)\n",
        "ws.append(['', '', '', '', total_without_tax])\n",
        "\n",
        "# 小計・消費税・合計（ラベル付き）\n",
        "subtotal = total_without_tax\n",
        "tax = int(subtotal * 0.10)\n",
        "grand_total = subtotal + tax\n",
        "\n",
        "ws.append(['', '小計', '', '', subtotal])\n",
        "ws.append(['', '消費税', '', '', tax])\n",
        "ws.append(['', '合計', '', '', grand_total])\n",
        "\n",
        "# 書式調整（B列〜E列）\n",
        "max_row = ws.max_row\n",
        "for row in ws.iter_rows(min_row=1, max_row=max_row, min_col=2, max_col=5):\n",
        "    for cell in row:\n",
        "        cell.font = font_normal\n",
        "        cell.alignment = align_center\n",
        "\n",
        "# 金額列（E列）のみ右寄せ\n",
        "for row in ws.iter_rows(min_row=10, max_row=max_row, min_col=5, max_col=5):\n",
        "    for cell in row:\n",
        "        cell.alignment = align_right\n",
        "\n",
        "# ヘッダー行を太字に\n",
        "for cell in ws[10]:\n",
        "    cell.font = font_bold\n",
        "\n",
        "# 保存\n",
        "wb.save(filename)\n",
        "print(f'{filename} を作成しました。')\n"
      ],
      "metadata": {
        "colab": {
          "base_uri": "https://localhost:8080/"
        },
        "id": "PdH-1H7l89oP",
        "outputId": "59ae070c-c862-41ee-f5b0-f802d348079c"
      },
      "execution_count": 2,
      "outputs": [
        {
          "output_type": "stream",
          "name": "stdout",
          "text": [
            "請求書_20250922.xlsx を作成しました。\n"
          ]
        }
      ]
    }
  ]
}