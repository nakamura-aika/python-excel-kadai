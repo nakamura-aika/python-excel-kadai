{
  "nbformat": 4,
  "nbformat_minor": 0,
  "metadata": {
    "colab": {
      "provenance": []
    },
    "kernelspec": {
      "name": "python3",
      "display_name": "Python 3"
    },
    "language_info": {
      "name": "python"
    }
  },
  "cells": [
    {
      "cell_type": "code",
      "source": [
        "# Step1〜3：pandasでデータ処理\n",
        "import pandas as pd\n",
        "\n",
        "# Excelファイルの読み込み\n",
        "df_2022 = pd.read_excel('2022_年間売上表.xlsx', sheet_name='Sheet1')\n",
        "df_2023 = pd.read_excel('2023_年間売上表.xlsx', sheet_name='Sheet1')\n",
        "\n",
        "# データの連結\n",
        "df_all = pd.concat([df_2022, df_2023], ignore_index=True)\n",
        "\n",
        "# 商品・売上年ごとにグループ化して合計\n",
        "df_summary = df_all.groupby(['商品', '売上年'], as_index=False)['金額（千円）'].sum()\n",
        "\n",
        "# 売上集計表.xlsx に書き込み\n",
        "output_file = '売上集計表.xlsx'\n",
        "df_summary.to_excel(output_file, index=False)\n",
        "\n",
        "# Step4：openpyxlでヘッダーの色を変更\n",
        "from openpyxl import load_workbook\n",
        "from openpyxl.styles import PatternFill\n",
        "\n",
        "# Excelファイルを読み込み\n",
        "wb = load_workbook(output_file)\n",
        "ws = wb.active\n",
        "\n",
        "# ヘッダー行（1行目）を薄いグレーに設定\n",
        "gray_fill = PatternFill(start_color='F2F2F2', end_color='F2F2F2', fill_type='solid')\n",
        "for cell in ws[1]:\n",
        "    cell.fill = gray_fill\n",
        "\n",
        "# 保存\n",
        "wb.save(output_file)\n",
        "print(f'{output_file} を作成・整形しました。')\n"
      ],
      "metadata": {
        "colab": {
          "base_uri": "https://localhost:8080/"
        },
        "id": "7qu9vl86_YGE",
        "outputId": "a2b4cd30-3654-4ae4-ad4c-e9af1ca41d4a"
      },
      "execution_count": 4,
      "outputs": [
        {
          "output_type": "stream",
          "name": "stdout",
          "text": [
            "売上集計表.xlsx を作成・整形しました。\n"
          ]
        }
      ]
    }
  ]
}